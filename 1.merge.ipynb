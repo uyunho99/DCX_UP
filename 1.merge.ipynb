{
 "cells": [
  {
   "cell_type": "markdown",
   "id": "5fb9170c",
   "metadata": {},
   "source": [
    "## Concat"
   ]
  },
  {
   "cell_type": "code",
   "execution_count": 1,
   "id": "ddfb775a",
   "metadata": {},
   "outputs": [],
   "source": [
    "import pandas as pd\n",
    "import os\n",
    "\n",
    "# 폴더 내 CSV 파일을 읽고 하나로 합치는 함수\n",
    "def read_csv_files_in_folder(folder_path):\n",
    "    all_files = []\n",
    "    for file in os.listdir(folder_path):\n",
    "        if file.endswith('.csv'):\n",
    "            file_path = os.path.join(folder_path, file)\n",
    "            try:\n",
    "                df = pd.read_csv(file_path, encoding='utf-8')  # 먼저 utf-8로 시도\n",
    "            except UnicodeDecodeError:\n",
    "                try:\n",
    "                    df = pd.read_csv(file_path, encoding='cp949')  # 한글 파일은 cp949도 자주 사용\n",
    "                except Exception as e:\n",
    "                    print(f\"파일 {file}을(를) 읽는 데 실패했습니다: {e}\")\n",
    "                    continue\n",
    "            all_files.append(df)\n",
    "    \n",
    "    combined_df = pd.concat(all_files, ignore_index=True)\n",
    "    return combined_df"
   ]
  },
  {
   "cell_type": "code",
   "execution_count": 8,
   "id": "f5178732",
   "metadata": {},
   "outputs": [
    {
     "data": {
      "text/plain": [
       "1625"
      ]
     },
     "execution_count": 8,
     "metadata": {},
     "output_type": "execute_result"
    }
   ],
   "source": [
    "water_dispenser_path = './water_dispenser'\n",
    "water_dispenser_combined_df = read_csv_files_in_folder(water_dispenser_path)\n",
    "\n",
    "len(water_dispenser_combined_df)"
   ]
  },
  {
   "cell_type": "code",
   "execution_count": 9,
   "id": "d4249bdf",
   "metadata": {},
   "outputs": [],
   "source": [
    "water_dispenser_combined_df.to_csv('./water_dispenser_origin.csv', index=False, encoding='utf-8-sig')"
   ]
  },
  {
   "cell_type": "markdown",
   "id": "f315c919",
   "metadata": {},
   "source": [
    "## Length Check"
   ]
  },
  {
   "cell_type": "code",
   "execution_count": null,
   "id": "d91b4af0",
   "metadata": {},
   "outputs": [
    {
     "name": "stdout",
     "output_type": "stream",
     "text": [
      "1629 1625 4\n"
     ]
    }
   ],
   "source": [
    "import pandas as pd\n",
    "\n",
    "df_original = pd.read_excel('./original_data.xlsx')\n",
    "df_air = pd.read_csv('./water_dispenser_origin.csv')\n",
    "\n",
    "mask = (\n",
    "    # (df_original['components'] == '드라이기') |\n",
    "    (df_original['components'] == '정수기')\n",
    ")\n",
    "df_filtered = df_original[mask]\n",
    "\n",
    "df_filtered_count = len(df_filtered)\n",
    "df_air_count = len(df_air)\n",
    "\n",
    "print(df_filtered_count, df_air_count, df_filtered_count - df_air_count)"
   ]
  },
  {
   "cell_type": "code",
   "execution_count": 13,
   "id": "f49220bd",
   "metadata": {},
   "outputs": [
    {
     "name": "stderr",
     "output_type": "stream",
     "text": [
      "/var/folders/k4/dp8jpl_52w1g8nsm7nqcr12m0000gn/T/ipykernel_2919/3316326408.py:2: SettingWithCopyWarning: \n",
      "A value is trying to be set on a copy of a slice from a DataFrame.\n",
      "Try using .loc[row_indexer,col_indexer] = value instead\n",
      "\n",
      "See the caveats in the documentation: https://pandas.pydata.org/pandas-docs/stable/user_guide/indexing.html#returning-a-view-versus-a-copy\n",
      "  df_filtered['merge_key'] = df_filtered['ticket_id_hashed'].astype(str) + '|' + \\\n"
     ]
    },
    {
     "data": {
      "text/plain": [
       "'물량 설정시 100ml 까지 설정할 수 있으면 좋겠네요. 간단히 약 하나 먹을때 120은 항상 남네요'"
      ]
     },
     "execution_count": 13,
     "metadata": {},
     "output_type": "execute_result"
    }
   ],
   "source": [
    "# 중복 여부까지 확인하기 위해 세 열을 합쳐서 비교 기준으로 사용\n",
    "df_filtered['merge_key'] = df_filtered['ticket_id_hashed'].astype(str) + '|' + \\\n",
    "                           df_filtered['beforechange'].astype(str) + '|' + \\\n",
    "                           df_filtered['afterchange'].astype(str)\n",
    "\n",
    "df_air['merge_key'] = df_air['ticket_id_hashed'].astype(str) + '|' + \\\n",
    "                      df_air['beforechange'].astype(str) + '|' + \\\n",
    "                      df_air['afterchange'].astype(str)\n",
    "\n",
    "# df_filtered에만 있는 행 찾기\n",
    "diff_row = df_filtered[~df_filtered['merge_key'].isin(df_air['merge_key'])]\n",
    "diff_row.iloc[1]['afterchange']"
   ]
  },
  {
   "cell_type": "code",
   "execution_count": 14,
   "id": "3789c992",
   "metadata": {},
   "outputs": [
    {
     "data": {
      "text/plain": [
       "4"
      ]
     },
     "execution_count": 14,
     "metadata": {},
     "output_type": "execute_result"
    }
   ],
   "source": [
    "len(diff_row)"
   ]
  },
  {
   "cell_type": "code",
   "execution_count": 15,
   "id": "9b29fdb8",
   "metadata": {},
   "outputs": [],
   "source": [
    "diff_row_cleaned = diff_row.drop(columns=['merge_key'])\n",
    "diff_row_cleaned.to_csv('./water_dispenser_diff.csv', index=False, encoding='utf-8-sig')"
   ]
  },
  {
   "cell_type": "code",
   "execution_count": null,
   "id": "06d2f0c0",
   "metadata": {},
   "outputs": [
    {
     "data": {
      "text/plain": [
       "27"
      ]
     },
     "execution_count": 19,
     "metadata": {},
     "output_type": "execute_result"
    }
   ],
   "source": [
    "diff_row_cleaned = diff_row.drop(columns=['merge_key'])\n",
    "\n",
    "# diff_row['keyword']가 NaN인 경우 drop\n",
    "diff_row_cleaned = diff_row_cleaned.dropna(subset=['keyword'])\n",
    "len(diff_row_cleaned)"
   ]
  },
  {
   "cell_type": "markdown",
   "id": "6fc61605",
   "metadata": {},
   "source": [
    "## I'm sorry Check"
   ]
  },
  {
   "cell_type": "code",
   "execution_count": null,
   "id": "5c8eba1f",
   "metadata": {},
   "outputs": [],
   "source": [
    "concat_df = pd.read_csv('./water_dispenser_origin.csv')"
   ]
  },
  {
   "cell_type": "code",
   "execution_count": null,
   "id": "36f8740f",
   "metadata": {},
   "outputs": [
    {
     "data": {
      "text/plain": [
       "18"
      ]
     },
     "execution_count": 57,
     "metadata": {},
     "output_type": "execute_result"
    }
   ],
   "source": [
    "sorry_rows = water_dispenser_combined_df[water_dispenser_combined_df['generated_summary'].str.contains(\"I'm sorry\", na=False)]\n",
    "len(sorry_rows)"
   ]
  },
  {
   "cell_type": "code",
   "execution_count": null,
   "id": "595e3a23",
   "metadata": {},
   "outputs": [
    {
     "data": {
      "text/plain": [
       "(11, 25)"
      ]
     },
     "execution_count": 58,
     "metadata": {},
     "output_type": "execute_result"
    }
   ],
   "source": [
    "# please, Please\n",
    "please_rows = water_dispenser_combined_df[water_dispenser_combined_df['generated_summary'].str.contains(\"please\", na=False)]\n",
    "please_rows_2 = water_dispenser_combined_df[water_dispenser_combined_df['generated_summary'].str.contains(\"Please\", na=False)]\n",
    "len(please_rows), len(please_rows_2)"
   ]
  },
  {
   "cell_type": "code",
   "execution_count": null,
   "id": "473dfc2a",
   "metadata": {},
   "outputs": [],
   "source": [
    "# concat 시 중복 제거\n",
    "concat_sorry_please = pd.concat([sorry_rows, please_rows, please_rows_2], ignore_index=True)\n",
    "concat_sorry_please = concat_sorry_please.drop_duplicates()\n",
    "concat_sorry_please.to_csv('./water_dispenser_sorry_please.csv', index=False, encoding='utf-8-sig')"
   ]
  },
  {
   "cell_type": "code",
   "execution_count": 63,
   "id": "44c58f7a",
   "metadata": {},
   "outputs": [
    {
     "data": {
      "text/plain": [
       "(18, 11, 25, 41)"
      ]
     },
     "execution_count": 63,
     "metadata": {},
     "output_type": "execute_result"
    }
   ],
   "source": [
    "len(sorry_rows), len(please_rows), len(please_rows_2), len(concat_sorry_please)"
   ]
  },
  {
   "cell_type": "markdown",
   "id": "dc3ce778",
   "metadata": {},
   "source": [
    "## Combine Missing One"
   ]
  },
  {
   "cell_type": "code",
   "execution_count": null,
   "id": "00d49b7c",
   "metadata": {},
   "outputs": [
    {
     "data": {
      "text/plain": [
       "(3314, 1, 3315)"
      ]
     },
     "execution_count": 40,
     "metadata": {},
     "output_type": "execute_result"
    }
   ],
   "source": [
    "df_origin = pd.read_csv('./water_dispenser_origin.csv')\n",
    "df_diff = pd.read_csv('./water_dispenser_diff.csv')\n",
    "\n",
    "df_concat = pd.concat([df_origin, df_diff], ignore_index=True)\n",
    "len(df_origin), len(df_diff), len(df_concat)"
   ]
  },
  {
   "cell_type": "code",
   "execution_count": null,
   "id": "5ae76867",
   "metadata": {},
   "outputs": [],
   "source": [
    "df_concat.to_csv('./water_dispenser_origin.csv', index=False, encoding='utf-8-sig')"
   ]
  },
  {
   "cell_type": "markdown",
   "id": "ee05f41c",
   "metadata": {},
   "source": [
    "## Merge Re-I'm Sorry"
   ]
  },
  {
   "cell_type": "code",
   "execution_count": null,
   "id": "41b9701d",
   "metadata": {},
   "outputs": [
    {
     "data": {
      "text/plain": [
       "21"
      ]
     },
     "execution_count": 36,
     "metadata": {},
     "output_type": "execute_result"
    }
   ],
   "source": [
    "import pandas as pd\n",
    "\n",
    "# 파일 경로\n",
    "file_1st = './sorry2/water_dispenser_sorry_5_1st.csv'\n",
    "file_2nd = './sorry2/water_dispenser_sorry_5_2nd.csv'\n",
    "file_3rd = './sorry2/water_dispenser_sorry_5_3rd.csv'\n",
    "\n",
    "# 데이터 읽기\n",
    "df_1st = pd.read_csv(file_1st)\n",
    "df_2nd = pd.read_csv(file_2nd)\n",
    "df_3rd = pd.read_csv(file_3rd)\n",
    "\n",
    "# 우선순위: 3rd > 2nd > 1st\n",
    "# 각 데이터프레임에서 ticket_id와 generated_summary만 사용 (필요시 컬럼 수정)\n",
    "key = 'ticket_id_hashed'\n",
    "value = 'generated_summary'\n",
    "\n",
    "# 1st를 기본으로 시작\n",
    "df_final = df_1st.copy()\n",
    "\n",
    "# 2nd의 해당 ticket_id에 대해 generated_summary만 업데이트\n",
    "df_final.set_index(key, inplace=True)\n",
    "df_2nd.set_index(key, inplace=True)\n",
    "df_final.update(df_2nd)\n",
    "\n",
    "# 3rd의 해당 ticket_id에 대해 generated_summary만 업데이트\n",
    "df_3rd.set_index(key, inplace=True)\n",
    "df_final.update(df_3rd)\n",
    "\n",
    "# 인덱스 복구\n",
    "df_final.reset_index(inplace=True)\n",
    "len(df_final)"
   ]
  },
  {
   "cell_type": "code",
   "execution_count": null,
   "id": "75d782f1",
   "metadata": {},
   "outputs": [],
   "source": [
    "# 결과 저장\n",
    "df_final.to_csv('./sorry/water_dispenser_sorry_merged_5.csv', index=False)"
   ]
  },
  {
   "cell_type": "code",
   "execution_count": null,
   "id": "481f42b5",
   "metadata": {},
   "outputs": [
    {
     "name": "stdout",
     "output_type": "stream",
     "text": [
      "3348 32\n",
      "15\n",
      "0\n"
     ]
    }
   ],
   "source": [
    "import pandas as pd\n",
    "\n",
    "# 1. 원본 CSV 불러오기\n",
    "origin_path = './water_dispenser_origin.csv'\n",
    "merged_path = './sorry/water_dispenser_sorry_merged.csv'\n",
    "\n",
    "df_origin = pd.read_csv(origin_path, encoding='utf-8-sig')\n",
    "df_merged = pd.read_csv(merged_path, encoding='utf-8-sig')\n",
    "\n",
    "print(len(df_origin), len(df_merged))\n",
    "\n",
    "# key 컬럼 이름\n",
    "key = 'ticket_id_hashed'\n",
    "value = 'generated_summary'\n",
    "\n",
    "df_merged_nodup = df_merged.drop_duplicates(subset=[key], keep='last')\n",
    "df_origin = df_origin.drop_duplicates(subset=[key], keep='last')\n",
    "\n",
    "# df_merged에 key와 value만 추출 (혹시 컬럼명이 다르면 맞게 수정)\n",
    "df_origin.set_index(key, inplace=True)\n",
    "df_merged_nodup.set_index(key, inplace=True)\n",
    "df_origin.update(df_merged_nodup[[value]])\n",
    "\n",
    "df_origin.reset_index(inplace=True)\n",
    "\n",
    "# 2. 제거 대상 조건 설정\n",
    "print(len(df_origin[df_origin['generated_summary'] == '-']))\n",
    "print(len(df_origin[df_origin['keyword'].isna()]))"
   ]
  },
  {
   "cell_type": "code",
   "execution_count": null,
   "id": "2c80ffe7",
   "metadata": {},
   "outputs": [
    {
     "name": "stdout",
     "output_type": "stream",
     "text": [
      "원본 데이터 수: 3348\n",
      "제거된 데이터 수: 15\n",
      "정제된 데이터 수: 3333\n"
     ]
    }
   ],
   "source": [
    "removed_df = df_origin[(df_origin['generated_summary'].isin(['-'])) | (df_origin['keyword'].isna())]\n",
    "# removed_df = pd.concat([removed_df, diff_row_cleaned], ignore_index=True)\n",
    "\n",
    "# 3. 정제된 데이터 설정\n",
    "cleaned_df = df_origin[~df_origin['generated_summary'].isin(['-']) & ~df_origin['keyword'].isna()]\n",
    "\n",
    "# 4. 확인 출력\n",
    "print(f\"원본 데이터 수: {len(df_origin)}\")\n",
    "print(f\"제거된 데이터 수: {len(removed_df)}\")\n",
    "print(f\"정제된 데이터 수: {len(cleaned_df)}\")\n",
    "\n",
    "# 5. 각각 저장\n",
    "cleaned_df.to_csv(\"./water_dispenser_origin_updated.csv\", index=False, encoding='utf-8-sig')\n",
    "removed_df.to_csv(\"./water_dispenser_removed_rows.csv\", index=False, encoding='utf-8-sig')"
   ]
  }
 ],
 "metadata": {
  "kernelspec": {
   "display_name": "llm",
   "language": "python",
   "name": "python3"
  },
  "language_info": {
   "codemirror_mode": {
    "name": "ipython",
    "version": 3
   },
   "file_extension": ".py",
   "mimetype": "text/x-python",
   "name": "python",
   "nbconvert_exporter": "python",
   "pygments_lexer": "ipython3",
   "version": "3.11.0"
  }
 },
 "nbformat": 4,
 "nbformat_minor": 5
}
